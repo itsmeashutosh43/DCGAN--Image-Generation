{
  "nbformat": 4,
  "nbformat_minor": 0,
  "metadata": {
    "colab": {
      "name": "GAN",
      "version": "0.3.2",
      "provenance": [],
      "collapsed_sections": []
    },
    "kernelspec": {
      "name": "python3",
      "display_name": "Python 3"
    }
  },
  "cells": [
    {
      "metadata": {
        "id": "T43pCZeeERty",
        "colab_type": "code",
        "colab": {}
      },
      "cell_type": "code",
      "source": [
        "import tensorflow as tf\n",
        "import random\n",
        "import numpy as np\n",
        "import matplotlib.pyplot as plt\n",
        "%matplotlib inline"
      ],
      "execution_count": 0,
      "outputs": []
    },
    {
      "metadata": {
        "id": "Cz60AA_VojOj",
        "colab_type": "code",
        "colab": {}
      },
      "cell_type": "code",
      "source": [
        "# Install TF-Hub.\n",
        "!pip -q install tensorflow-hub\n",
        "# Install imageio for creating animations.  \n",
        "!pip -q install imageio\n",
        "!pip -q install scikit-image"
      ],
      "execution_count": 0,
      "outputs": []
    },
    {
      "metadata": {
        "id": "vErtFN9ropkN",
        "colab_type": "code",
        "colab": {}
      },
      "cell_type": "code",
      "source": [
        "import tensorflow_hub as hub"
      ],
      "execution_count": 0,
      "outputs": []
    },
    {
      "metadata": {
        "id": "GZKVSUllFeOE",
        "colab_type": "code",
        "outputId": "62ed494b-034d-4380-afe4-6959fd3880db",
        "colab": {
          "base_uri": "https://localhost:8080/",
          "height": 489
        }
      },
      "cell_type": "code",
      "source": [
        "\n",
        "from tensorflow.examples.tutorials.mnist import input_data\n",
        "mnist = input_data.read_data_sets(\"MNIST_data/\")"
      ],
      "execution_count": 4,
      "outputs": [
        {
          "output_type": "stream",
          "text": [
            "WARNING:tensorflow:From <ipython-input-4-bcab2bb76036>:3: read_data_sets (from tensorflow.contrib.learn.python.learn.datasets.mnist) is deprecated and will be removed in a future version.\n",
            "Instructions for updating:\n",
            "Please use alternatives such as official/mnist/dataset.py from tensorflow/models.\n",
            "WARNING:tensorflow:From /usr/local/lib/python3.6/dist-packages/tensorflow/contrib/learn/python/learn/datasets/mnist.py:260: maybe_download (from tensorflow.contrib.learn.python.learn.datasets.base) is deprecated and will be removed in a future version.\n",
            "Instructions for updating:\n",
            "Please write your own downloading logic.\n",
            "WARNING:tensorflow:From /usr/local/lib/python3.6/dist-packages/tensorflow/contrib/learn/python/learn/datasets/base.py:252: _internal_retry.<locals>.wrap.<locals>.wrapped_fn (from tensorflow.contrib.learn.python.learn.datasets.base) is deprecated and will be removed in a future version.\n",
            "Instructions for updating:\n",
            "Please use urllib or similar directly.\n",
            "Successfully downloaded train-images-idx3-ubyte.gz 9912422 bytes.\n",
            "WARNING:tensorflow:From /usr/local/lib/python3.6/dist-packages/tensorflow/contrib/learn/python/learn/datasets/mnist.py:262: extract_images (from tensorflow.contrib.learn.python.learn.datasets.mnist) is deprecated and will be removed in a future version.\n",
            "Instructions for updating:\n",
            "Please use tf.data to implement this functionality.\n",
            "Extracting MNIST_data/train-images-idx3-ubyte.gz\n",
            "Successfully downloaded train-labels-idx1-ubyte.gz 28881 bytes.\n",
            "WARNING:tensorflow:From /usr/local/lib/python3.6/dist-packages/tensorflow/contrib/learn/python/learn/datasets/mnist.py:267: extract_labels (from tensorflow.contrib.learn.python.learn.datasets.mnist) is deprecated and will be removed in a future version.\n",
            "Instructions for updating:\n",
            "Please use tf.data to implement this functionality.\n",
            "Extracting MNIST_data/train-labels-idx1-ubyte.gz\n",
            "Successfully downloaded t10k-images-idx3-ubyte.gz 1648877 bytes.\n",
            "Extracting MNIST_data/t10k-images-idx3-ubyte.gz\n",
            "Successfully downloaded t10k-labels-idx1-ubyte.gz 4542 bytes.\n",
            "Extracting MNIST_data/t10k-labels-idx1-ubyte.gz\n",
            "WARNING:tensorflow:From /usr/local/lib/python3.6/dist-packages/tensorflow/contrib/learn/python/learn/datasets/mnist.py:290: DataSet.__init__ (from tensorflow.contrib.learn.python.learn.datasets.mnist) is deprecated and will be removed in a future version.\n",
            "Instructions for updating:\n",
            "Please use alternatives such as official/mnist/dataset.py from tensorflow/models.\n"
          ],
          "name": "stdout"
        }
      ]
    },
    {
      "metadata": {
        "id": "IfuWNctXFmVg",
        "colab_type": "code",
        "outputId": "3a146745-a042-45a5-df77-a8ad15a731c8",
        "colab": {
          "base_uri": "https://localhost:8080/",
          "height": 34
        }
      },
      "cell_type": "code",
      "source": [
        "train=mnist.train.images[:]\n",
        "train.shape"
      ],
      "execution_count": 5,
      "outputs": [
        {
          "output_type": "execute_result",
          "data": {
            "text/plain": [
              "(55000, 784)"
            ]
          },
          "metadata": {
            "tags": []
          },
          "execution_count": 5
        }
      ]
    },
    {
      "metadata": {
        "id": "gvlXzyILF39j",
        "colab_type": "code",
        "outputId": "553f0799-fa9f-4f7e-ae6b-463a42e31d04",
        "colab": {
          "base_uri": "https://localhost:8080/",
          "height": 265
        }
      },
      "cell_type": "code",
      "source": [
        "randomNumber=random.randint(0,55000)\n",
        "image=train[randomNumber].reshape([28,28])\n",
        "plt.imshow(image,cmap=plt.get_cmap('gray'))\n",
        "plt.show()"
      ],
      "execution_count": 6,
      "outputs": [
        {
          "output_type": "display_data",
          "data": {
            "image/png": "[encoded data removed]",
            "text/plain": [
              "<Figure size 432x288 with 1 Axes>"
            ]
          },
          "metadata": {
            "tags": []
          }
        }
      ]
    },
    {
      "metadata": {
        "id": "wxbO4yYYGk9t",
        "colab_type": "code",
        "colab": {}
      },
      "cell_type": "code",
      "source": [
        "def conv2D(x,W):\n",
        "  return tf.nn.conv2d(input=x,filter=W,strides=[1,1,1,1],padding='SAME')\n",
        "\n",
        "def avg_pool_2x2(x):\n",
        "  return tf.nn.avg_pool(x, ksize=[1, 2, 2, 1], strides=[1, 2, 2, 1], padding='SAME')\n"
      ],
      "execution_count": 0,
      "outputs": []
    },
    {
      "metadata": {
        "id": "Pu4cOT9uMLRi",
        "colab_type": "code",
        "colab": {}
      },
      "cell_type": "code",
      "source": [
        "def discreminator(x_image,reuse=False):\n",
        "  with tf.variable_scope('discreminator') as scope:\n",
        "    if (reuse):\n",
        "      tf.get_variable_scope().reuse_variables()\n",
        "      \n",
        "    w_conv1=tf.get_variable('d_wconv1',[5,5,1,8],initializer=tf.truncated_normal_initializer(stddev=0.02))\n",
        "    #The first two dimensions are the patch size, the next is the number of input channels, and the last is the number of output channels\n",
        "    b_conv1=tf.get_variable('d_bconv1',[8],initializer=tf.constant_initializer(0))\n",
        "    h_conv1=tf.nn.leaky_relu(conv2D(x_image,w_conv1)+b_conv1)\n",
        "    h_pool1=avg_pool_2x2(h_conv1)\n",
        "    #relu is a max(0,x) function. If there is any input -ve on the input(eg: black in image), it sets to 0\n",
        "    #h_pool1 pools the avegae of 4 variables to one for better generalization of the image\n",
        "    \n",
        "    #second layer\n",
        "    \n",
        "    w_conv2=tf.get_variable('d_wconv2',[5,5,8,16],initializer=tf.truncated_normal_initializer(stddev=0.02))\n",
        "    b_conv2=tf.get_variable('d_bconv2',[16],initializer=tf.constant_initializer(0))\n",
        "    h_conv2=tf.nn.leaky_relu(conv2D(h_pool1,w_conv2)+b_conv2)\n",
        "    h_pool2=avg_pool_2x2(h_conv2)\n",
        "    \n",
        "    #first fully connected layer\n",
        "    \n",
        "    w_fc1=tf.get_variable('d_wfc1',[7 * 7 * 16, 32], initializer=tf.truncated_normal_initializer(stddev=0.02))\n",
        "    b_fc1=tf.get_variable('d_bfc1',[32],initializer=tf.constant_initializer(0))\n",
        "    h_pool2_flat= tf.reshape(h_pool2,[-1, 7*7*16])\n",
        "    h_fc1=tf.nn.leaky_relu(tf.matmul(h_pool2_flat,w_fc1)+b_fc1)\n",
        "    print(h_fc1.shape)\n",
        "    \n",
        "    \n",
        "    w_fc2 = tf.get_variable('d_wfc2', [32,1], initializer=tf.truncated_normal_initializer(stddev=0.02))\n",
        "    b_fc2 = tf.get_variable('d_bfc2', [1], initializer=tf.constant_initializer(0))\n",
        "    \n",
        "    y_conv=tf.matmul(h_fc1,w_fc2)+b_fc2\n",
        "    \n",
        "    \n",
        "   \n",
        "  return y_conv\n",
        "    \n",
        "    "
      ],
      "execution_count": 0,
      "outputs": []
    },
    {
      "metadata": {
        "id": "qgxO-5XSac4Z",
        "colab_type": "code",
        "colab": {}
      },
      "cell_type": "code",
      "source": [
        "def generator(z,batch_size,z_dim,reuse=False):\n",
        "  with tf.variable_scope('generator') as scope:\n",
        "    if (reuse):\n",
        "      tf.get_variable_scope().reuse_variables()\n",
        "      \n",
        "    g_dim=64\n",
        "    c_dim=1\n",
        "    s=28\n",
        "    \n",
        "    \n",
        "    s2,s4,s8,s16=int(s/2),int(s/4),int(s/8),int(s/16)\n",
        "    h0=tf.reshape(z,[batch_size,s16+1,s16+1,25])\n",
        "    h0=tf.nn.relu(h0)\n",
        "    \n",
        "    #First deconv layer\n",
        "    \n",
        "    output1_shape=[batch_size,s8,s8,g_dim*4]\n",
        "    w_conv1=tf.get_variable('g_wconv1',[5,5,output1_shape[-1],int(h0.get_shape()[-1])],initializer=tf.truncated_normal_initializer(stddev=0.1))\n",
        "    b_conv1=tf.get_variable('g_bconv1',[output1_shape[-1]],initializer=tf.constant_initializer(.1))\n",
        "    h_conv1=tf.nn.conv2d_transpose(h0,w_conv1,output_shape=output1_shape,strides=[1,2,2,1],padding='SAME')+b_conv1\n",
        "    h_conv1=tf.contrib.layers.batch_norm(inputs=h_conv1,center=True,scale=True,is_training=True,scope='g_bn1')\n",
        "    h_conv1=tf.nn.leaky_relu(h_conv1)\n",
        "    #Dimensions of H_conv1 = batch_size x 3 x 3 x 256\n",
        "    \n",
        "    \n",
        "    output2_shape=[batch_size,s4-1,s4-1,g_dim*2]\n",
        "    w_conv2=tf.get_variable('g_wconv2',[5,5,output2_shape[-1],int(h_conv1.get_shape()[-1])],initializer=tf.truncated_normal_initializer(stddev=0.1))\n",
        "    \n",
        "    b_conv2=tf.get_variable('g_bconv2',[output2_shape[-1]],initializer=tf.constant_initializer(.1))\n",
        "    h_conv2=tf.nn.conv2d_transpose(h_conv1,w_conv2,output_shape=output2_shape,strides=[1,2,2,1],padding='SAME')+b_conv2\n",
        "    h_conv2=tf.contrib.layers.batch_norm(inputs=h_conv2,center=True,scale=True,is_training=True,scope='g_bn2')\n",
        "    h_conv2=tf.nn.leaky_relu(h_conv2)\n",
        "    #Dimensions of H_conv2 = batch_size x 6 x 6 x 128\n",
        "    \n",
        "    \n",
        "    output3_shape=[batch_size,s2-2,s2-2,g_dim*1]\n",
        "    w_conv3=tf.get_variable('g_wconv3',[5,5,output3_shape[-1],int(h_conv2.get_shape()[-1])],initializer=tf.truncated_normal_initializer(stddev=0.1))\n",
        "    print(w_conv3.shape)\n",
        "    \n",
        "    b_conv3=tf.get_variable('g_bconv3',[output3_shape[-1]],initializer=tf.constant_initializer(.1))\n",
        "    h_conv3=tf.nn.conv2d_transpose(h_conv2,w_conv3,output_shape=output3_shape,strides=[1,2,2,1],padding='SAME')+b_conv3\n",
        "    h_conv3=tf.contrib.layers.batch_norm(inputs=h_conv3,center=True,scale=True,is_training=True,scope='g_bn3')\n",
        "    h_conv3=tf.nn.leaky_relu(h_conv3)\n",
        "    ##Dimensions of H_conv3 = batch_size x 12 x 12 x 64\n",
        "    \n",
        "    \n",
        "    output4_shape=[batch_size,s,s,c_dim]\n",
        "    w_conv4=tf.get_variable('g_wconv4',[5,5,output4_shape[-1],int(h_conv3.get_shape()[-1])],initializer=tf.truncated_normal_initializer(stddev=0.1))\n",
        "    \n",
        "    b_conv4=tf.get_variable('g_bconv4',[output4_shape[-1]],initializer=tf.constant_initializer(.1))\n",
        "    h_conv4=tf.nn.conv2d_transpose(h_conv3,w_conv4,output_shape=output4_shape,strides=[1,2,2,1],padding='VALID')+b_conv4\n",
        "    h_conv4=tf.contrib.layers.batch_norm(inputs=h_conv4,center=True,scale=True,is_training=True,scope='g_bn4')\n",
        "    h_conv4=tf.nn.tanh(h_conv4)\n",
        "    \n",
        "  return h_conv4\n",
        "    \n",
        "    \n",
        "                            \n",
        "    \n",
        "    \n",
        "    \n",
        "     "
      ],
      "execution_count": 0,
      "outputs": []
    },
    {
      "metadata": {
        "id": "54-smvwMo7Cf",
        "colab_type": "code",
        "colab": {}
      },
      "cell_type": "code",
      "source": [
        "tf.reset_default_graph()\n",
        "sess = tf.Session()\n",
        "z_dimensions=100\n",
        "z_test_placeholder=tf.placeholder(tf.float32, [None, z_dimensions])\n",
        "\n",
        "\n"
      ],
      "execution_count": 0,
      "outputs": []
    },
    {
      "metadata": {
        "id": "b3aE1hPErzub",
        "colab_type": "code",
        "outputId": "b43fd8cd-4633-482a-d78e-65ba4734fd11",
        "colab": {
          "base_uri": "https://localhost:8080/",
          "height": 106
        }
      },
      "cell_type": "code",
      "source": [
        "\n",
        "sample_image = generator(z_test_placeholder, 1, z_dimensions)\n",
        "test_z = np.random.uniform(-1, 1, [1,z_dimensions])"
      ],
      "execution_count": 11,
      "outputs": [
        {
          "output_type": "stream",
          "text": [
            "WARNING:tensorflow:From /usr/local/lib/python3.6/dist-packages/tensorflow/python/framework/op_def_library.py:263: colocate_with (from tensorflow.python.framework.ops) is deprecated and will be removed in a future version.\n",
            "Instructions for updating:\n",
            "Colocations handled automatically by placer.\n",
            "(5, 5, 64, 128)\n"
          ],
          "name": "stdout"
        }
      ]
    },
    {
      "metadata": {
        "id": "GC37miM11p6e",
        "colab_type": "code",
        "colab": {}
      },
      "cell_type": "code",
      "source": [
        "sess.run(tf.global_variables_initializer())\n",
        "temp=sess.run(sample_image,feed_dict={z_test_placeholder:test_z})"
      ],
      "execution_count": 0,
      "outputs": []
    },
    {
      "metadata": {
        "id": "028Nu6Ta7rC2",
        "colab_type": "code",
        "outputId": "db1673c5-69df-4dd3-b56a-644fdc312efb",
        "colab": {
          "base_uri": "https://localhost:8080/",
          "height": 265
        }
      },
      "cell_type": "code",
      "source": [
        "my_i = temp.squeeze()\n",
        "plt.imshow(my_i, cmap='gray_r')\n",
        "plt.show()"
      ],
      "execution_count": 13,
      "outputs": [
        {
          "output_type": "display_data",
          "data": {
            "image/png": "[encoded data removed]",
            "text/plain": [
              "<Figure size 432x288 with 1 Axes>"
            ]
          },
          "metadata": {
            "tags": []
          }
        }
      ]
    },
    {
      "metadata": {
        "id": "L09sge1T71Ia",
        "colab_type": "code",
        "colab": {}
      },
      "cell_type": "code",
      "source": [
        "\n",
        "batch_size=32\n",
        "z_dimensions=100\n",
        "tf.reset_default_graph()\n",
        "sess=tf.Session()\n",
        "\n",
        "x_placeholder=tf.placeholder(\"float\",shape=[None,28,28,1])\n",
        "z_placeholder=tf.placeholder(tf.float32,shape=[None,z_dimensions])"
      ],
      "execution_count": 0,
      "outputs": []
    },
    {
      "metadata": {
        "id": "wRh5_c_rA345",
        "colab_type": "code",
        "colab": {}
      },
      "cell_type": "code",
      "source": [
        ""
      ],
      "execution_count": 0,
      "outputs": []
    },
    {
      "metadata": {
        "id": "MXMdXIJ-79BG",
        "colab_type": "code",
        "outputId": "589904f6-8dd2-455f-e91b-77958ac22da2",
        "colab": {
          "base_uri": "https://localhost:8080/",
          "height": 86
        }
      },
      "cell_type": "code",
      "source": [
        "\n",
        "Dx=discreminator(x_placeholder)\n",
        "print(Dx)\n",
        "Gz=generator(z_placeholder,batch_size,z_dimensions)\n",
        "Dg=discreminator(Gz,reuse=True)"
      ],
      "execution_count": 15,
      "outputs": [
        {
          "output_type": "stream",
          "text": [
            "(?, 32)\n",
            "Tensor(\"discreminator/add_3:0\", shape=(?, 1), dtype=float32)\n",
            "(5, 5, 64, 128)\n",
            "(32, 32)\n"
          ],
          "name": "stdout"
        }
      ]
    },
    {
      "metadata": {
        "id": "QeR6qyCl0YnG",
        "colab_type": "code",
        "colab": {}
      },
      "cell_type": "code",
      "source": [
        "g_loss = tf.reduce_mean(tf.nn.sigmoid_cross_entropy_with_logits(logits = Dg, labels = tf.ones_like(Dg)))"
      ],
      "execution_count": 0,
      "outputs": []
    },
    {
      "metadata": {
        "id": "NOMSRpWdLd4E",
        "colab_type": "code",
        "colab": {}
      },
      "cell_type": "code",
      "source": [
        "d_loss_real = tf.reduce_mean(tf.nn.sigmoid_cross_entropy_with_logits(logits = Dx, labels = tf.ones_like(Dx)))\n",
        "d_loss_fake = tf.reduce_mean(tf.nn.sigmoid_cross_entropy_with_logits(logits = Dg, labels = tf.zeros_like(Dg)))\n",
        "d_loss = d_loss_real + d_loss_fake"
      ],
      "execution_count": 0,
      "outputs": []
    },
    {
      "metadata": {
        "id": "CUuDDTesLgsw",
        "colab_type": "code",
        "colab": {}
      },
      "cell_type": "code",
      "source": [
        "tvars = tf.trainable_variables()\n",
        "d_vars = [var for var in tvars if 'd_' in var.name]\n",
        "g_vars = [var for var in tvars if 'g_' in var.name]"
      ],
      "execution_count": 0,
      "outputs": []
    },
    {
      "metadata": {
        "id": "aKqJe-nXLjlY",
        "colab_type": "code",
        "colab": {}
      },
      "cell_type": "code",
      "source": [
        "adam = tf.train.AdamOptimizer(learning_rate=0.0001)\n",
        "trainerD = adam.minimize(d_loss, var_list=d_vars)\n",
        "adam1= tf.train.AdamOptimizer()\n",
        "trainerG = adam1.minimize(g_loss, var_list=g_vars)"
      ],
      "execution_count": 0,
      "outputs": []
    },
    {
      "metadata": {
        "id": "zzotitJ5Swv8",
        "colab_type": "code",
        "colab": {}
      },
      "cell_type": "code",
      "source": [
        "import time\n",
        "dLossList=[]\n",
        "gLossList=[]"
      ],
      "execution_count": 0,
      "outputs": []
    },
    {
      "metadata": {
        "id": "bmeyxkD_Lmq_",
        "colab_type": "code",
        "outputId": "db86b842-9a65-4586-b9a7-f14c6e999b71",
        "colab": {
          "base_uri": "https://localhost:8080/",
          "height": 2101
        }
      },
      "cell_type": "code",
      "source": [
        "sess.run(tf.global_variables_initializer())\n",
        "batch_size = 32 #Size of image batch to apply at each iteration.\n",
        "iterations = 50000\n",
        "startTime=time.time()\n",
        "for i in range(iterations):\n",
        "    z_batch = np.random.normal(-1, 1, size=[batch_size, z_dimensions])\n",
        "    real_image_batch = mnist.train.next_batch(batch_size)\n",
        "    real_image_batch = np.reshape(real_image_batch[0],[batch_size,28,28,1]) \n",
        "    _,dLoss = sess.run([trainerD, d_loss],feed_dict={z_placeholder:z_batch,x_placeholder:real_image_batch}) #Update the discriminator\n",
        "    _,gLoss = sess.run([trainerG,g_loss],feed_dict={z_placeholder:z_batch}) #Update the generator\n",
        "    if i%500==0:\n",
        "      endTime=time.time()-startTime\n",
        "      \n",
        "      print(dLoss,gLoss)\n",
        "      dLossList.append(dLoss)\n",
        "      gLossList.append(gLoss)\n",
        "      startTime=time.time()\n",
        "      "
      ],
      "execution_count": 21,
      "outputs": [
        {
          "output_type": "stream",
          "text": [
            "1.3863058 0.6931555\n",
            "1.3799713 0.70692325\n",
            "1.2006121 0.7931341\n",
            "0.8685546 1.2390535\n",
            "0.27905685 2.1625326\n",
            "0.5808341 1.4532187\n",
            "0.2136699 2.2656696\n",
            "0.44315237 2.4628205\n",
            "0.5764203 2.1470704\n",
            "0.16044092 2.567185\n",
            "0.5199139 2.0016031\n",
            "0.38573366 2.79667\n",
            "0.48793408 2.0692184\n",
            "0.12350164 2.549585\n",
            "0.06952568 3.232692\n",
            "0.053568225 3.5945847\n",
            "0.23854756 3.6855032\n",
            "0.074364215 2.785835\n",
            "0.04334064 3.9669378\n",
            "0.054563522 4.1556406\n",
            "0.32782766 4.305545\n",
            "0.25267142 2.3884587\n",
            "0.05238682 3.821756\n",
            "0.041235156 3.8836498\n",
            "0.037112992 3.9564097\n",
            "0.43889952 3.013815\n",
            "0.076489896 3.509067\n",
            "0.012436413 4.430012\n",
            "0.026623962 5.0672007\n",
            "0.023085278 4.1494904\n",
            "0.04717525 5.2577477\n",
            "0.010449187 4.839141\n",
            "0.013938378 5.7135935\n",
            "0.04044511 3.9530978\n",
            "0.01214983 4.8855696\n",
            "0.015517158 6.0386467\n",
            "0.009317055 6.347269\n",
            "0.010901169 6.2931356\n",
            "0.0047860676 7.6311088\n",
            "0.0029149754 6.1076217\n",
            "0.010022275 6.9061265\n",
            "0.0074915336 5.69668\n",
            "0.025388435 4.8785543\n",
            "0.12027989 3.3222904\n",
            "0.31588233 2.7672138\n",
            "0.5977791 2.9361546\n",
            "0.10824261 3.202909\n",
            "0.07870582 4.606434\n",
            "0.070367046 3.7435203\n",
            "0.04333526 4.482925\n",
            "0.042499144 4.734182\n",
            "0.15712771 3.1615942\n",
            "0.033176526 4.1035337\n",
            "0.025746185 4.413499\n",
            "0.06408216 3.005668\n",
            "0.13165127 3.5888474\n",
            "0.26109093 3.574048\n",
            "0.13271949 2.9790843\n",
            "0.11292544 2.9860084\n",
            "0.19624454 3.2260566\n",
            "0.019084243 4.3527412\n",
            "0.05569203 4.093111\n",
            "0.07387127 6.6382704\n",
            "0.039991703 5.883034\n"
          ],
          "name": "stdout"
        },
        {
          "output_type": "error",
          "ename": "KeyboardInterrupt",
          "evalue": "ignored",
          "traceback": [
            "\u001b[0;31m---------------------------------------------------------------------------\u001b[0m",
            "\u001b[0;31mKeyboardInterrupt\u001b[0m                         Traceback (most recent call last)",
            "\u001b[0;32m<ipython-input-21-b14fbc19df49>\u001b[0m in \u001b[0;36m<module>\u001b[0;34m()\u001b[0m\n\u001b[1;32m      7\u001b[0m     \u001b[0mreal_image_batch\u001b[0m \u001b[0;34m=\u001b[0m \u001b[0mmnist\u001b[0m\u001b[0;34m.\u001b[0m\u001b[0mtrain\u001b[0m\u001b[0;34m.\u001b[0m\u001b[0mnext_batch\u001b[0m\u001b[0;34m(\u001b[0m\u001b[0mbatch_size\u001b[0m\u001b[0;34m)\u001b[0m\u001b[0;34m\u001b[0m\u001b[0;34m\u001b[0m\u001b[0m\n\u001b[1;32m      8\u001b[0m     \u001b[0mreal_image_batch\u001b[0m \u001b[0;34m=\u001b[0m \u001b[0mnp\u001b[0m\u001b[0;34m.\u001b[0m\u001b[0mreshape\u001b[0m\u001b[0;34m(\u001b[0m\u001b[0mreal_image_batch\u001b[0m\u001b[0;34m[\u001b[0m\u001b[0;36m0\u001b[0m\u001b[0;34m]\u001b[0m\u001b[0;34m,\u001b[0m\u001b[0;34m[\u001b[0m\u001b[0mbatch_size\u001b[0m\u001b[0;34m,\u001b[0m\u001b[0;36m28\u001b[0m\u001b[0;34m,\u001b[0m\u001b[0;36m28\u001b[0m\u001b[0;34m,\u001b[0m\u001b[0;36m1\u001b[0m\u001b[0;34m]\u001b[0m\u001b[0;34m)\u001b[0m\u001b[0;34m\u001b[0m\u001b[0;34m\u001b[0m\u001b[0m\n\u001b[0;32m----> 9\u001b[0;31m     \u001b[0m_\u001b[0m\u001b[0;34m,\u001b[0m\u001b[0mdLoss\u001b[0m \u001b[0;34m=\u001b[0m \u001b[0msess\u001b[0m\u001b[0;34m.\u001b[0m\u001b[0mrun\u001b[0m\u001b[0;34m(\u001b[0m\u001b[0;34m[\u001b[0m\u001b[0mtrainerD\u001b[0m\u001b[0;34m,\u001b[0m \u001b[0md_loss\u001b[0m\u001b[0;34m]\u001b[0m\u001b[0;34m,\u001b[0m\u001b[0mfeed_dict\u001b[0m\u001b[0;34m=\u001b[0m\u001b[0;34m{\u001b[0m\u001b[0mz_placeholder\u001b[0m\u001b[0;34m:\u001b[0m\u001b[0mz_batch\u001b[0m\u001b[0;34m,\u001b[0m\u001b[0mx_placeholder\u001b[0m\u001b[0;34m:\u001b[0m\u001b[0mreal_image_batch\u001b[0m\u001b[0;34m}\u001b[0m\u001b[0;34m)\u001b[0m \u001b[0;31m#Update the discriminator\u001b[0m\u001b[0;34m\u001b[0m\u001b[0;34m\u001b[0m\u001b[0m\n\u001b[0m\u001b[1;32m     10\u001b[0m     \u001b[0m_\u001b[0m\u001b[0;34m,\u001b[0m\u001b[0mgLoss\u001b[0m \u001b[0;34m=\u001b[0m \u001b[0msess\u001b[0m\u001b[0;34m.\u001b[0m\u001b[0mrun\u001b[0m\u001b[0;34m(\u001b[0m\u001b[0;34m[\u001b[0m\u001b[0mtrainerG\u001b[0m\u001b[0;34m,\u001b[0m\u001b[0mg_loss\u001b[0m\u001b[0;34m]\u001b[0m\u001b[0;34m,\u001b[0m\u001b[0mfeed_dict\u001b[0m\u001b[0;34m=\u001b[0m\u001b[0;34m{\u001b[0m\u001b[0mz_placeholder\u001b[0m\u001b[0;34m:\u001b[0m\u001b[0mz_batch\u001b[0m\u001b[0;34m}\u001b[0m\u001b[0;34m)\u001b[0m \u001b[0;31m#Update the generator\u001b[0m\u001b[0;34m\u001b[0m\u001b[0;34m\u001b[0m\u001b[0m\n\u001b[1;32m     11\u001b[0m     \u001b[0;32mif\u001b[0m \u001b[0mi\u001b[0m\u001b[0;34m%\u001b[0m\u001b[0;36m500\u001b[0m\u001b[0;34m==\u001b[0m\u001b[0;36m0\u001b[0m\u001b[0;34m:\u001b[0m\u001b[0;34m\u001b[0m\u001b[0;34m\u001b[0m\u001b[0m\n",
            "\u001b[0;32m/usr/local/lib/python3.6/dist-packages/tensorflow/python/client/session.py\u001b[0m in \u001b[0;36mrun\u001b[0;34m(self, fetches, feed_dict, options, run_metadata)\u001b[0m\n\u001b[1;32m    927\u001b[0m     \u001b[0;32mtry\u001b[0m\u001b[0;34m:\u001b[0m\u001b[0;34m\u001b[0m\u001b[0;34m\u001b[0m\u001b[0m\n\u001b[1;32m    928\u001b[0m       result = self._run(None, fetches, feed_dict, options_ptr,\n\u001b[0;32m--> 929\u001b[0;31m                          run_metadata_ptr)\n\u001b[0m\u001b[1;32m    930\u001b[0m       \u001b[0;32mif\u001b[0m \u001b[0mrun_metadata\u001b[0m\u001b[0;34m:\u001b[0m\u001b[0;34m\u001b[0m\u001b[0;34m\u001b[0m\u001b[0m\n\u001b[1;32m    931\u001b[0m         \u001b[0mproto_data\u001b[0m \u001b[0;34m=\u001b[0m \u001b[0mtf_session\u001b[0m\u001b[0;34m.\u001b[0m\u001b[0mTF_GetBuffer\u001b[0m\u001b[0;34m(\u001b[0m\u001b[0mrun_metadata_ptr\u001b[0m\u001b[0;34m)\u001b[0m\u001b[0;34m\u001b[0m\u001b[0;34m\u001b[0m\u001b[0m\n",
            "\u001b[0;32m/usr/local/lib/python3.6/dist-packages/tensorflow/python/client/session.py\u001b[0m in \u001b[0;36m_run\u001b[0;34m(self, handle, fetches, feed_dict, options, run_metadata)\u001b[0m\n\u001b[1;32m   1150\u001b[0m     \u001b[0;32mif\u001b[0m \u001b[0mfinal_fetches\u001b[0m \u001b[0;32mor\u001b[0m \u001b[0mfinal_targets\u001b[0m \u001b[0;32mor\u001b[0m \u001b[0;34m(\u001b[0m\u001b[0mhandle\u001b[0m \u001b[0;32mand\u001b[0m \u001b[0mfeed_dict_tensor\u001b[0m\u001b[0;34m)\u001b[0m\u001b[0;34m:\u001b[0m\u001b[0;34m\u001b[0m\u001b[0;34m\u001b[0m\u001b[0m\n\u001b[1;32m   1151\u001b[0m       results = self._do_run(handle, final_targets, final_fetches,\n\u001b[0;32m-> 1152\u001b[0;31m                              feed_dict_tensor, options, run_metadata)\n\u001b[0m\u001b[1;32m   1153\u001b[0m     \u001b[0;32melse\u001b[0m\u001b[0;34m:\u001b[0m\u001b[0;34m\u001b[0m\u001b[0;34m\u001b[0m\u001b[0m\n\u001b[1;32m   1154\u001b[0m       \u001b[0mresults\u001b[0m \u001b[0;34m=\u001b[0m \u001b[0;34m[\u001b[0m\u001b[0;34m]\u001b[0m\u001b[0;34m\u001b[0m\u001b[0;34m\u001b[0m\u001b[0m\n",
            "\u001b[0;32m/usr/local/lib/python3.6/dist-packages/tensorflow/python/client/session.py\u001b[0m in \u001b[0;36m_do_run\u001b[0;34m(self, handle, target_list, fetch_list, feed_dict, options, run_metadata)\u001b[0m\n\u001b[1;32m   1326\u001b[0m     \u001b[0;32mif\u001b[0m \u001b[0mhandle\u001b[0m \u001b[0;32mis\u001b[0m \u001b[0;32mNone\u001b[0m\u001b[0;34m:\u001b[0m\u001b[0;34m\u001b[0m\u001b[0;34m\u001b[0m\u001b[0m\n\u001b[1;32m   1327\u001b[0m       return self._do_call(_run_fn, feeds, fetches, targets, options,\n\u001b[0;32m-> 1328\u001b[0;31m                            run_metadata)\n\u001b[0m\u001b[1;32m   1329\u001b[0m     \u001b[0;32melse\u001b[0m\u001b[0;34m:\u001b[0m\u001b[0;34m\u001b[0m\u001b[0;34m\u001b[0m\u001b[0m\n\u001b[1;32m   1330\u001b[0m       \u001b[0;32mreturn\u001b[0m \u001b[0mself\u001b[0m\u001b[0;34m.\u001b[0m\u001b[0m_do_call\u001b[0m\u001b[0;34m(\u001b[0m\u001b[0m_prun_fn\u001b[0m\u001b[0;34m,\u001b[0m \u001b[0mhandle\u001b[0m\u001b[0;34m,\u001b[0m \u001b[0mfeeds\u001b[0m\u001b[0;34m,\u001b[0m \u001b[0mfetches\u001b[0m\u001b[0;34m)\u001b[0m\u001b[0;34m\u001b[0m\u001b[0;34m\u001b[0m\u001b[0m\n",
            "\u001b[0;32m/usr/local/lib/python3.6/dist-packages/tensorflow/python/client/session.py\u001b[0m in \u001b[0;36m_do_call\u001b[0;34m(self, fn, *args)\u001b[0m\n\u001b[1;32m   1332\u001b[0m   \u001b[0;32mdef\u001b[0m \u001b[0m_do_call\u001b[0m\u001b[0;34m(\u001b[0m\u001b[0mself\u001b[0m\u001b[0;34m,\u001b[0m \u001b[0mfn\u001b[0m\u001b[0;34m,\u001b[0m \u001b[0;34m*\u001b[0m\u001b[0margs\u001b[0m\u001b[0;34m)\u001b[0m\u001b[0;34m:\u001b[0m\u001b[0;34m\u001b[0m\u001b[0;34m\u001b[0m\u001b[0m\n\u001b[1;32m   1333\u001b[0m     \u001b[0;32mtry\u001b[0m\u001b[0;34m:\u001b[0m\u001b[0;34m\u001b[0m\u001b[0;34m\u001b[0m\u001b[0m\n\u001b[0;32m-> 1334\u001b[0;31m       \u001b[0;32mreturn\u001b[0m \u001b[0mfn\u001b[0m\u001b[0;34m(\u001b[0m\u001b[0;34m*\u001b[0m\u001b[0margs\u001b[0m\u001b[0;34m)\u001b[0m\u001b[0;34m\u001b[0m\u001b[0;34m\u001b[0m\u001b[0m\n\u001b[0m\u001b[1;32m   1335\u001b[0m     \u001b[0;32mexcept\u001b[0m \u001b[0merrors\u001b[0m\u001b[0;34m.\u001b[0m\u001b[0mOpError\u001b[0m \u001b[0;32mas\u001b[0m \u001b[0me\u001b[0m\u001b[0;34m:\u001b[0m\u001b[0;34m\u001b[0m\u001b[0;34m\u001b[0m\u001b[0m\n\u001b[1;32m   1336\u001b[0m       \u001b[0mmessage\u001b[0m \u001b[0;34m=\u001b[0m \u001b[0mcompat\u001b[0m\u001b[0;34m.\u001b[0m\u001b[0mas_text\u001b[0m\u001b[0;34m(\u001b[0m\u001b[0me\u001b[0m\u001b[0;34m.\u001b[0m\u001b[0mmessage\u001b[0m\u001b[0;34m)\u001b[0m\u001b[0;34m\u001b[0m\u001b[0;34m\u001b[0m\u001b[0m\n",
            "\u001b[0;32m/usr/local/lib/python3.6/dist-packages/tensorflow/python/client/session.py\u001b[0m in \u001b[0;36m_run_fn\u001b[0;34m(feed_dict, fetch_list, target_list, options, run_metadata)\u001b[0m\n\u001b[1;32m   1317\u001b[0m       \u001b[0mself\u001b[0m\u001b[0;34m.\u001b[0m\u001b[0m_extend_graph\u001b[0m\u001b[0;34m(\u001b[0m\u001b[0;34m)\u001b[0m\u001b[0;34m\u001b[0m\u001b[0;34m\u001b[0m\u001b[0m\n\u001b[1;32m   1318\u001b[0m       return self._call_tf_sessionrun(\n\u001b[0;32m-> 1319\u001b[0;31m           options, feed_dict, fetch_list, target_list, run_metadata)\n\u001b[0m\u001b[1;32m   1320\u001b[0m \u001b[0;34m\u001b[0m\u001b[0m\n\u001b[1;32m   1321\u001b[0m     \u001b[0;32mdef\u001b[0m \u001b[0m_prun_fn\u001b[0m\u001b[0;34m(\u001b[0m\u001b[0mhandle\u001b[0m\u001b[0;34m,\u001b[0m \u001b[0mfeed_dict\u001b[0m\u001b[0;34m,\u001b[0m \u001b[0mfetch_list\u001b[0m\u001b[0;34m)\u001b[0m\u001b[0;34m:\u001b[0m\u001b[0;34m\u001b[0m\u001b[0;34m\u001b[0m\u001b[0m\n",
            "\u001b[0;32m/usr/local/lib/python3.6/dist-packages/tensorflow/python/client/session.py\u001b[0m in \u001b[0;36m_call_tf_sessionrun\u001b[0;34m(self, options, feed_dict, fetch_list, target_list, run_metadata)\u001b[0m\n\u001b[1;32m   1405\u001b[0m     return tf_session.TF_SessionRun_wrapper(\n\u001b[1;32m   1406\u001b[0m         \u001b[0mself\u001b[0m\u001b[0;34m.\u001b[0m\u001b[0m_session\u001b[0m\u001b[0;34m,\u001b[0m \u001b[0moptions\u001b[0m\u001b[0;34m,\u001b[0m \u001b[0mfeed_dict\u001b[0m\u001b[0;34m,\u001b[0m \u001b[0mfetch_list\u001b[0m\u001b[0;34m,\u001b[0m \u001b[0mtarget_list\u001b[0m\u001b[0;34m,\u001b[0m\u001b[0;34m\u001b[0m\u001b[0;34m\u001b[0m\u001b[0m\n\u001b[0;32m-> 1407\u001b[0;31m         run_metadata)\n\u001b[0m\u001b[1;32m   1408\u001b[0m \u001b[0;34m\u001b[0m\u001b[0m\n\u001b[1;32m   1409\u001b[0m   \u001b[0;32mdef\u001b[0m \u001b[0m_call_tf_sessionprun\u001b[0m\u001b[0;34m(\u001b[0m\u001b[0mself\u001b[0m\u001b[0;34m,\u001b[0m \u001b[0mhandle\u001b[0m\u001b[0;34m,\u001b[0m \u001b[0mfeed_dict\u001b[0m\u001b[0;34m,\u001b[0m \u001b[0mfetch_list\u001b[0m\u001b[0;34m)\u001b[0m\u001b[0;34m:\u001b[0m\u001b[0;34m\u001b[0m\u001b[0;34m\u001b[0m\u001b[0m\n",
            "\u001b[0;31mKeyboardInterrupt\u001b[0m: "
          ]
        }
      ]
    },
    {
      "metadata": {
        "id": "BCb2U6S8LqNk",
        "colab_type": "code",
        "outputId": "bf822a71-f411-44d6-c622-298a33f47506",
        "colab": {
          "base_uri": "https://localhost:8080/",
          "height": 300
        }
      },
      "cell_type": "code",
      "source": [
        "\n",
        "sample_image = generator(z_placeholder, 1, z_dimensions, reuse=True)\n",
        "z_batch = np.random.uniform(-1, 1, size=[1, z_dimensions])\n",
        "temp = (sess.run(sample_image, feed_dict={z_placeholder: z_batch}))\n",
        "my_i = temp.squeeze()\n",
        "plt.imshow(my_i, cmap='gray_r')"
      ],
      "execution_count": 22,
      "outputs": [
        {
          "output_type": "stream",
          "text": [
            "(5, 5, 64, 128)\n"
          ],
          "name": "stdout"
        },
        {
          "output_type": "execute_result",
          "data": {
            "text/plain": [
              "<matplotlib.image.AxesImage at 0x7f35eaa5ab00>"
            ]
          },
          "metadata": {
            "tags": []
          },
          "execution_count": 22
        },
        {
          "output_type": "display_data",
          "data": {
            "image/png": "[encoded data removed]",
            "text/plain": [
              "<Figure size 432x288 with 1 Axes>"
            ]
          },
          "metadata": {
            "tags": []
          }
        }
      ]
    },
    {
      "metadata": {
        "id": "vd950jQ9T4Pa",
        "colab_type": "code",
        "colab": {}
      },
      "cell_type": "code",
      "source": [
        "saver = tf.train.Saver()\n",
        "\n",
        "from google.colab import files\n",
        "files.download(sess)"
      ],
      "execution_count": 0,
      "outputs": []
    },
    {
      "metadata": {
        "id": "_5qbLjS7RhC4",
        "colab_type": "code",
        "colab": {
          "base_uri": "https://localhost:8080/",
          "height": 294
        },
        "outputId": "cd7bd39c-b6f8-4364-cd32-65dd5fc8a9ba"
      },
      "cell_type": "code",
      "source": [
        "plt.plot(dLossList)\n",
        "plt.plot(gLossList)\n",
        "plt.title('Discreminator Loss and Generator Loss for MNIST Model')\n",
        "plt.xlabel('No. Of (epoch)')\n",
        "plt.ylabel('Training Loss')\n",
        "plt.gca().legend(('Discreminator Loss','Generator Loss'))\n",
        "plt.show()"
      ],
      "execution_count": 27,
      "outputs": [
        {
          "output_type": "display_data",
          "data": {
            "image/png": "[encoded data removed]",
            "text/plain": [
              "<Figure size 432x288 with 1 Axes>"
            ]
          },
          "metadata": {
            "tags": []
          }
        }
      ]
    },
    {
      "metadata": {
        "id": "jhC1nRwORwVV",
        "colab_type": "code",
        "colab": {}
      },
      "cell_type": "code",
      "source": [
        ""
      ],
      "execution_count": 0,
      "outputs": []
    },
    {
      "metadata": {
        "id": "ZyJO06nNRjUC",
        "colab_type": "code",
        "outputId": "a5c67b1e-fb75-4ee8-9b1a-599341b7a262",
        "colab": {
          "base_uri": "https://localhost:8080/",
          "height": 69
        }
      },
      "cell_type": "code",
      "source": [
        ""
      ],
      "execution_count": 0,
      "outputs": [
        {
          "output_type": "stream",
          "text": [
            "(?, 32)\n",
            "(5, 5, 64, 128)\n",
            "(32, 32)\n"
          ],
          "name": "stdout"
        }
      ]
    },
    {
      "metadata": {
        "id": "KO3kEK-0RoP_",
        "colab_type": "code",
        "colab": {}
      },
      "cell_type": "code",
      "source": [
        ""
      ],
      "execution_count": 0,
      "outputs": []
    },
    {
      "metadata": {
        "id": "41hutr8XSsYo",
        "colab_type": "code",
        "colab": {}
      },
      "cell_type": "code",
      "source": [
        ""
      ],
      "execution_count": 0,
      "outputs": []
    },
    {
      "metadata": {
        "id": "kG1HVUkfSymU",
        "colab_type": "code",
        "colab": {}
      },
      "cell_type": "code",
      "source": [
        ""
      ],
      "execution_count": 0,
      "outputs": []
    },
    {
      "metadata": {
        "id": "eCTMkLi9N3-Y",
        "colab_type": "code",
        "colab": {}
      },
      "cell_type": "code",
      "source": [
        "#use normal distribution, not uniform!!\n",
        "#AdamOptimizer\n",
        "#G_loss is positive mean\n",
        "#max=1000000\n",
        "#implement epochs (save model after an epoch)"
      ],
      "execution_count": 0,
      "outputs": []
    },
    {
      "metadata": {
        "id": "SkN86TUWAaqs",
        "colab_type": "code",
        "outputId": "5c8d96b9-9497-4a80-a144-e7f92decde88",
        "colab": {
          "base_uri": "https://localhost:8080/",
          "height": 34
        }
      },
      "cell_type": "code",
      "source": [
        ""
      ],
      "execution_count": 0,
      "outputs": [
        {
          "output_type": "stream",
          "text": [
            "Drive already mounted at /content/gdrive; to attempt to forcibly remount, call drive.mount(\"/content/gdrive\", force_remount=True).\n"
          ],
          "name": "stdout"
        }
      ]
    },
    {
      "metadata": {
        "id": "Rr_xb6NLERr9",
        "colab_type": "code",
        "colab": {}
      },
      "cell_type": "code",
      "source": [
        ""
      ],
      "execution_count": 0,
      "outputs": []
    },
    {
      "metadata": {
        "id": "h98BVu0GSCa4",
        "colab_type": "code",
        "colab": {}
      },
      "cell_type": "code",
      "source": [
        ""
      ],
      "execution_count": 0,
      "outputs": []
    },
    {
      "metadata": {
        "id": "KNHdanhtSlhq",
        "colab_type": "code",
        "outputId": "ab34752c-421d-42f4-fdbc-a0e8f948f4e7",
        "colab": {
          "base_uri": "https://localhost:8080/",
          "height": 237
        }
      },
      "cell_type": "code",
      "source": [
        ""
      ],
      "execution_count": 0,
      "outputs": [
        {
          "output_type": "error",
          "ename": "NameError",
          "evalue": "ignored",
          "traceback": [
            "\u001b[0;31m---------------------------------------------------------------------------\u001b[0m",
            "\u001b[0;31mNameError\u001b[0m                                 Traceback (most recent call last)",
            "\u001b[0;32m<ipython-input-88-28a143694a2b>\u001b[0m in \u001b[0;36m<module>\u001b[0;34m()\u001b[0m\n\u001b[0;32m----> 1\u001b[0;31m \u001b[0mckpt\u001b[0m \u001b[0;34m=\u001b[0m \u001b[0mtf\u001b[0m\u001b[0;34m.\u001b[0m\u001b[0mtrain\u001b[0m\u001b[0;34m.\u001b[0m\u001b[0mget_checkpoint_state\u001b[0m\u001b[0;34m(\u001b[0m\u001b[0mCHECKPOINT_DIR\u001b[0m\u001b[0;34m)\u001b[0m\u001b[0;34m\u001b[0m\u001b[0;34m\u001b[0m\u001b[0m\n\u001b[0m\u001b[1;32m      2\u001b[0m \u001b[0;32mif\u001b[0m \u001b[0mckpt\u001b[0m \u001b[0;34m:\u001b[0m\u001b[0;34m\u001b[0m\u001b[0;34m\u001b[0m\u001b[0m\n\u001b[1;32m      3\u001b[0m   \u001b[0mprint\u001b[0m \u001b[0;34m(\u001b[0m\u001b[0;34m\"Restoring previous model...\"\u001b[0m\u001b[0;34m)\u001b[0m\u001b[0;34m\u001b[0m\u001b[0;34m\u001b[0m\u001b[0m\n\u001b[1;32m      4\u001b[0m   \u001b[0;32mtry\u001b[0m\u001b[0;34m:\u001b[0m\u001b[0;34m\u001b[0m\u001b[0;34m\u001b[0m\u001b[0m\n\u001b[1;32m      5\u001b[0m     \u001b[0msaver\u001b[0m\u001b[0;34m.\u001b[0m\u001b[0mrestore\u001b[0m\u001b[0;34m(\u001b[0m\u001b[0msess\u001b[0m\u001b[0;34m,\u001b[0m \u001b[0mckpt\u001b[0m\u001b[0;34m.\u001b[0m\u001b[0mmodel_checkpoint_path\u001b[0m\u001b[0;34m)\u001b[0m\u001b[0;34m\u001b[0m\u001b[0;34m\u001b[0m\u001b[0m\n",
            "\u001b[0;31mNameError\u001b[0m: name 'CHECKPOINT_DIR' is not defined"
          ]
        }
      ]
    },
    {
      "metadata": {
        "id": "kN49SV5wTZBZ",
        "colab_type": "code",
        "outputId": "e345ac4b-af42-44ff-fbdc-24a3997c93be",
        "colab": {
          "base_uri": "https://localhost:8080/",
          "height": 851
        }
      },
      "cell_type": "code",
      "source": [
        ""
      ],
      "execution_count": 0,
      "outputs": [
        {
          "output_type": "stream",
          "text": [
            "Saving..\n",
            "Time taken 1.1893539428710938\n",
            "Saved Model\n",
            "Saving..\n",
            "Time taken 468.5000216960907\n",
            "Saving..\n",
            "Time taken 467.92356514930725\n",
            "Saved Model\n",
            "Saving..\n",
            "Time taken 475.09435081481934\n",
            "Saving..\n",
            "Time taken 478.5287137031555\n",
            "Saved Model\n",
            "Saving..\n",
            "Time taken 475.79258918762207\n",
            "Saving..\n",
            "Time taken 475.86081290245056\n",
            "Saved Model\n",
            "Saving..\n",
            "Time taken 470.6700487136841\n",
            "Saving..\n",
            "Time taken 471.1506314277649\n",
            "Saved Model\n",
            "Saving..\n",
            "Time taken 474.24436140060425\n",
            "Saving..\n",
            "Time taken 473.23919105529785\n",
            "Saved Model\n",
            "Saving..\n",
            "Time taken 475.09070467948914\n",
            "Saving..\n",
            "Time taken 472.8668522834778\n",
            "Saved Model\n",
            "Saving..\n",
            "Time taken 469.58861088752747\n",
            "Saving..\n",
            "Time taken 473.8233404159546\n",
            "Saved Model\n",
            "Saving..\n",
            "Time taken 476.31962180137634\n",
            "Saving..\n",
            "Time taken 477.1801881790161\n",
            "Saved Model\n",
            "Saving..\n",
            "Time taken 475.96649646759033\n",
            "Saving..\n",
            "Time taken 477.1893103122711\n",
            "Saved Model\n"
          ],
          "name": "stdout"
        }
      ]
    },
    {
      "metadata": {
        "id": "LItmkWwnVNDi",
        "colab_type": "code",
        "colab": {}
      },
      "cell_type": "code",
      "source": [
        ""
      ],
      "execution_count": 0,
      "outputs": []
    },
    {
      "metadata": {
        "id": "FN8jI_nMzXRM",
        "colab_type": "code",
        "colab": {}
      },
      "cell_type": "code",
      "source": [
        "latent_dim = 512\n",
        "#Image generator based on tensorflow reimplementation of Progressive GANs[1\n",
        "# Display multiple images in the same figure.\n",
        "#The original model has been trained on a GPU for 636,801 steps with batch size 16\n",
        "def display_images(images, captions=None):\n",
        "  num_horizontally = 5\n",
        "  f, axes = plt.subplots(\n",
        "      len(images) // num_horizontally, num_horizontally, figsize=(20, 20))\n",
        "  for i in range(len(images)):\n",
        "    axes[i // num_horizontally, i % num_horizontally].axis(\"off\")\n",
        "    if captions is not None:\n",
        "      axes[i // num_horizontally, i % num_horizontally].text(0, -3, captions[i])\n",
        "    axes[i // num_horizontally, i % num_horizontally].imshow(images[i])\n",
        "  f.tight_layout()\n",
        "  \n",
        "  \n"
      ],
      "execution_count": 0,
      "outputs": []
    },
    {
      "metadata": {
        "id": "lZQUesuzpBve",
        "colab_type": "code",
        "colab": {}
      },
      "cell_type": "code",
      "source": [
        "generate = hub.Module(\"https://tfhub.dev/google/progan-128/1\")\n",
        "images = generate(tf.random_normal([20, 512]))\n",
        "\n",
        "with tf.Session() as session:\n",
        "      session.run(tf.global_variables_initializer())\n",
        "      interpolated_images_out = session.run(images)\n",
        "      \n",
        "display_images(interpolated_images_out)\n",
        "\n",
        "\n"
      ],
      "execution_count": 0,
      "outputs": []
    },
    {
      "metadata": {
        "id": "MO91TKO9pPCD",
        "colab_type": "code",
        "colab": {}
      },
      "cell_type": "code",
      "source": [
        ""
      ],
      "execution_count": 0,
      "outputs": []
    }
  ]
}